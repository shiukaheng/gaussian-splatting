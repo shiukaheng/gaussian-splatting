{
 "cells": [
  {
   "cell_type": "code",
   "execution_count": 2,
   "metadata": {},
   "outputs": [
    {
     "ename": "ImportError",
     "evalue": "libcudart.so.11.0: cannot open shared object file: No such file or directory",
     "output_type": "error",
     "traceback": [
      "\u001b[0;31m---------------------------------------------------------------------------\u001b[0m",
      "\u001b[0;31mImportError\u001b[0m                               Traceback (most recent call last)",
      "Cell \u001b[0;32mIn[2], line 1\u001b[0m\n\u001b[0;32m----> 1\u001b[0m \u001b[38;5;28;01mfrom\u001b[39;00m \u001b[38;5;21;01msplit_gaussian_splatting\u001b[39;00m\u001b[38;5;21;01m.\u001b[39;00m\u001b[38;5;21;01mtraining_task\u001b[39;00m \u001b[38;5;28;01mimport\u001b[39;00m Task\n\u001b[1;32m      2\u001b[0m \u001b[38;5;28;01mfrom\u001b[39;00m \u001b[38;5;21;01msplit_gaussian_splatting\u001b[39;00m\u001b[38;5;21;01m.\u001b[39;00m\u001b[38;5;21;01mtrainers\u001b[39;00m\u001b[38;5;21;01m.\u001b[39;00m\u001b[38;5;21;01msimple_trainer\u001b[39;00m \u001b[38;5;28;01mimport\u001b[39;00m SimpleTrainer\n\u001b[1;32m      3\u001b[0m \u001b[38;5;28;01mfrom\u001b[39;00m \u001b[38;5;21;01msplit_gaussian_splatting\u001b[39;00m\u001b[38;5;21;01m.\u001b[39;00m\u001b[38;5;21;01mevaluate\u001b[39;00m \u001b[38;5;28;01mimport\u001b[39;00m evaluate_scene\n",
      "File \u001b[0;32m~/Documents/GitHub/gaussian-splatting/split_gaussian_splatting/training_task.py:8\u001b[0m\n\u001b[1;32m      6\u001b[0m \u001b[38;5;28;01mfrom\u001b[39;00m \u001b[38;5;21;01mattr\u001b[39;00m \u001b[38;5;28;01mimport\u001b[39;00m asdict, dataclass\n\u001b[1;32m      7\u001b[0m \u001b[38;5;28;01mfrom\u001b[39;00m \u001b[38;5;21;01marguments\u001b[39;00m \u001b[38;5;28;01mimport\u001b[39;00m GroupParams, ModelParams, OptimizationParams, PipelineParams\n\u001b[0;32m----> 8\u001b[0m \u001b[38;5;28;01mfrom\u001b[39;00m \u001b[38;5;21;01msplit_gaussian_splatting\u001b[39;00m\u001b[38;5;21;01m.\u001b[39;00m\u001b[38;5;21;01mscene\u001b[39;00m \u001b[38;5;28;01mimport\u001b[39;00m Scene\n\u001b[1;32m      9\u001b[0m \u001b[38;5;28;01mfrom\u001b[39;00m \u001b[38;5;21;01mscene\u001b[39;00m\u001b[38;5;21;01m.\u001b[39;00m\u001b[38;5;21;01mgaussian_model\u001b[39;00m \u001b[38;5;28;01mimport\u001b[39;00m GaussianModel\n\u001b[1;32m     11\u001b[0m \u001b[38;5;129m@dataclass\u001b[39m\n\u001b[1;32m     12\u001b[0m \u001b[38;5;28;01mclass\u001b[39;00m \u001b[38;5;21;01mTask\u001b[39;00m:\n\u001b[1;32m     13\u001b[0m     \u001b[38;5;66;03m# Model parameters\u001b[39;00m\n",
      "File \u001b[0;32m~/Documents/GitHub/gaussian-splatting/split_gaussian_splatting/scene.py:17\u001b[0m\n\u001b[1;32m     15\u001b[0m \u001b[38;5;28;01mfrom\u001b[39;00m \u001b[38;5;21;01mtyping\u001b[39;00m \u001b[38;5;28;01mimport\u001b[39;00m Callable\n\u001b[1;32m     16\u001b[0m \u001b[38;5;28;01mfrom\u001b[39;00m \u001b[38;5;21;01mutils\u001b[39;00m\u001b[38;5;21;01m.\u001b[39;00m\u001b[38;5;21;01msystem_utils\u001b[39;00m \u001b[38;5;28;01mimport\u001b[39;00m searchForMaxIteration\n\u001b[0;32m---> 17\u001b[0m \u001b[38;5;28;01mfrom\u001b[39;00m \u001b[38;5;21;01mscene\u001b[39;00m\u001b[38;5;21;01m.\u001b[39;00m\u001b[38;5;21;01mdataset_readers\u001b[39;00m \u001b[38;5;28;01mimport\u001b[39;00m SceneInfo, sceneLoadTypeCallbacks\n\u001b[1;32m     18\u001b[0m \u001b[38;5;28;01mfrom\u001b[39;00m \u001b[38;5;21;01marguments\u001b[39;00m \u001b[38;5;28;01mimport\u001b[39;00m ModelParams\n\u001b[1;32m     19\u001b[0m \u001b[38;5;28;01mfrom\u001b[39;00m \u001b[38;5;21;01mutils\u001b[39;00m\u001b[38;5;21;01m.\u001b[39;00m\u001b[38;5;21;01mcamera_utils\u001b[39;00m \u001b[38;5;28;01mimport\u001b[39;00m cameraList_from_camInfos, camera_to_JSON\n",
      "File \u001b[0;32m~/Documents/GitHub/gaussian-splatting/scene/__init__.py:17\u001b[0m\n\u001b[1;32m     14\u001b[0m \u001b[38;5;28;01mimport\u001b[39;00m \u001b[38;5;21;01mjson\u001b[39;00m\n\u001b[1;32m     16\u001b[0m \u001b[38;5;28;01mfrom\u001b[39;00m \u001b[38;5;21;01mutils\u001b[39;00m\u001b[38;5;21;01m.\u001b[39;00m\u001b[38;5;21;01msystem_utils\u001b[39;00m \u001b[38;5;28;01mimport\u001b[39;00m searchForMaxIteration\n\u001b[0;32m---> 17\u001b[0m \u001b[38;5;28;01mfrom\u001b[39;00m \u001b[38;5;21;01mscene\u001b[39;00m\u001b[38;5;21;01m.\u001b[39;00m\u001b[38;5;21;01mdataset_readers\u001b[39;00m \u001b[38;5;28;01mimport\u001b[39;00m sceneLoadTypeCallbacks\n\u001b[1;32m     18\u001b[0m \u001b[38;5;28;01mfrom\u001b[39;00m \u001b[38;5;21;01mscene\u001b[39;00m\u001b[38;5;21;01m.\u001b[39;00m\u001b[38;5;21;01mgaussian_model\u001b[39;00m \u001b[38;5;28;01mimport\u001b[39;00m GaussianModel\n\u001b[1;32m     19\u001b[0m \u001b[38;5;28;01mfrom\u001b[39;00m \u001b[38;5;21;01marguments\u001b[39;00m \u001b[38;5;28;01mimport\u001b[39;00m ModelParams\n",
      "File \u001b[0;32m~/Documents/GitHub/gaussian-splatting/scene/dataset_readers.py:24\u001b[0m\n\u001b[1;32m     22\u001b[0m \u001b[38;5;28;01mfrom\u001b[39;00m \u001b[38;5;21;01mplyfile\u001b[39;00m \u001b[38;5;28;01mimport\u001b[39;00m PlyData, PlyElement\n\u001b[1;32m     23\u001b[0m \u001b[38;5;28;01mfrom\u001b[39;00m \u001b[38;5;21;01mutils\u001b[39;00m\u001b[38;5;21;01m.\u001b[39;00m\u001b[38;5;21;01msh_utils\u001b[39;00m \u001b[38;5;28;01mimport\u001b[39;00m SH2RGB\n\u001b[0;32m---> 24\u001b[0m \u001b[38;5;28;01mfrom\u001b[39;00m \u001b[38;5;21;01mscene\u001b[39;00m\u001b[38;5;21;01m.\u001b[39;00m\u001b[38;5;21;01mgaussian_model\u001b[39;00m \u001b[38;5;28;01mimport\u001b[39;00m BasicPointCloud\n\u001b[1;32m     26\u001b[0m \u001b[38;5;28;01mclass\u001b[39;00m \u001b[38;5;21;01mCameraInfo\u001b[39;00m(NamedTuple):\n\u001b[1;32m     27\u001b[0m     uid: \u001b[38;5;28mint\u001b[39m\n",
      "File \u001b[0;32m~/Documents/GitHub/gaussian-splatting/scene/gaussian_model.py:20\u001b[0m\n\u001b[1;32m     18\u001b[0m \u001b[38;5;28;01mfrom\u001b[39;00m \u001b[38;5;21;01mplyfile\u001b[39;00m \u001b[38;5;28;01mimport\u001b[39;00m PlyData, PlyElement\n\u001b[1;32m     19\u001b[0m \u001b[38;5;28;01mfrom\u001b[39;00m \u001b[38;5;21;01mutils\u001b[39;00m\u001b[38;5;21;01m.\u001b[39;00m\u001b[38;5;21;01msh_utils\u001b[39;00m \u001b[38;5;28;01mimport\u001b[39;00m RGB2SH\n\u001b[0;32m---> 20\u001b[0m \u001b[38;5;28;01mfrom\u001b[39;00m \u001b[38;5;21;01msimple_knn\u001b[39;00m\u001b[38;5;21;01m.\u001b[39;00m\u001b[38;5;21;01m_C\u001b[39;00m \u001b[38;5;28;01mimport\u001b[39;00m distCUDA2\n\u001b[1;32m     21\u001b[0m \u001b[38;5;28;01mfrom\u001b[39;00m \u001b[38;5;21;01mutils\u001b[39;00m\u001b[38;5;21;01m.\u001b[39;00m\u001b[38;5;21;01mgraphics_utils\u001b[39;00m \u001b[38;5;28;01mimport\u001b[39;00m BasicPointCloud\n\u001b[1;32m     22\u001b[0m \u001b[38;5;28;01mfrom\u001b[39;00m \u001b[38;5;21;01mutils\u001b[39;00m\u001b[38;5;21;01m.\u001b[39;00m\u001b[38;5;21;01mgeneral_utils\u001b[39;00m \u001b[38;5;28;01mimport\u001b[39;00m strip_symmetric, build_scaling_rotation\n",
      "\u001b[0;31mImportError\u001b[0m: libcudart.so.11.0: cannot open shared object file: No such file or directory"
     ]
    }
   ],
   "source": [
    "from split_gaussian_splatting.training_task import Task\n",
    "from split_gaussian_splatting.trainers.simple_trainer import SimpleTrainer\n",
    "from split_gaussian_splatting.evaluate import evaluate_scene\n",
    "\n",
    "# Task is the description of what needs to be trained\n",
    "task = Task(\n",
    "    source_path='./datasets/train',\n",
    "    iterations=200,\n",
    ") \n",
    "\n",
    "trainer = SimpleTrainer()\n",
    "\n",
    "# Scene includes the finished model, and loaded images\n",
    "scene = trainer.train(task)"
   ]
  },
  {
   "cell_type": "code",
   "execution_count": null,
   "metadata": {},
   "outputs": [],
   "source": [
    "results = evaluate_scene(scene, task)"
   ]
  },
  {
   "cell_type": "code",
   "execution_count": null,
   "metadata": {},
   "outputs": [],
   "source": [
    "results"
   ]
  }
 ],
 "metadata": {
  "kernelspec": {
   "display_name": "gsn",
   "language": "python",
   "name": "python3"
  },
  "language_info": {
   "codemirror_mode": {
    "name": "ipython",
    "version": 3
   },
   "file_extension": ".py",
   "mimetype": "text/x-python",
   "name": "python",
   "nbconvert_exporter": "python",
   "pygments_lexer": "ipython3",
   "version": "3.8.18"
  }
 },
 "nbformat": 4,
 "nbformat_minor": 2
}
