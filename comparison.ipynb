{
 "cells": [
  {
   "cell_type": "code",
   "execution_count": 1,
   "metadata": {},
   "outputs": [],
   "source": [
    "%load_ext autoreload\n",
    "%autoreload 2"
   ]
  },
  {
   "cell_type": "code",
   "execution_count": 2,
   "metadata": {},
   "outputs": [
    {
     "name": "stdout",
     "output_type": "stream",
     "text": [
      "Setting up [LPIPS] perceptual loss: trunk [vgg], v[0.1], spatial [off]\n"
     ]
    },
    {
     "name": "stderr",
     "output_type": "stream",
     "text": [
      "/home/heng/miniconda3/envs/gsn/lib/python3.8/site-packages/torchvision/models/_utils.py:208: UserWarning: The parameter 'pretrained' is deprecated since 0.13 and may be removed in the future, please use 'weights' instead.\n",
      "  warnings.warn(\n",
      "/home/heng/miniconda3/envs/gsn/lib/python3.8/site-packages/torchvision/models/_utils.py:223: UserWarning: Arguments other than a weight enum or `None` for 'weights' are deprecated since 0.13 and may be removed in the future. The current behavior is equivalent to passing `weights=VGG16_Weights.IMAGENET1K_V1`. You can also use `weights=VGG16_Weights.DEFAULT` to get the most up-to-date weights.\n",
      "  warnings.warn(msg)\n"
     ]
    },
    {
     "name": "stdout",
     "output_type": "stream",
     "text": [
      "Loading model from: /home/heng/miniconda3/envs/gsn/lib/python3.8/site-packages/lpips/weights/v0.1/vgg.pth\n",
      "('127.0.0.1', 6009)\n"
     ]
    }
   ],
   "source": [
    "from gaussian_renderer import network_gui\n",
    "from sgs2.gaussian import GaussianModel\n",
    "from sgs2.scene import Scene\n",
    "from sgs2.trainers.grid_trainer import GridTrainer\n",
    "from sgs2.trainers.simple_trainer import SimpleTrainer\n",
    "from sgs2.evaluation import evaluate_scene\n",
    "import os\n",
    "network_gui.init(\"127.0.0.1\", 6009)"
   ]
  },
  {
   "cell_type": "code",
   "execution_count": 3,
   "metadata": {},
   "outputs": [],
   "source": [
    "def make_iteration_callback(scene, folder_path=\"./output\", save_interval=100, name=\"gaussian_model\"):\n",
    "    os.makedirs(folder_path, exist_ok=True)\n",
    "    def iteration_callback(iteration, n_gauss, mem_use, model=None):\n",
    "        if model and (iteration % save_interval == 0):\n",
    "            model_path = os.path.join(folder_path, f\"{name}_{iteration}\")\n",
    "            print(f\"Saving model at iteration {iteration} to {model_path}\")\n",
    "            model.export_for_sibr(scene, model_path)\n",
    "    return iteration_callback"
   ]
  },
  {
   "cell_type": "markdown",
   "metadata": {},
   "source": [
    "# Dataset 1: Train scene\n",
    "- Method 1: Simple trainer (10K iterations)\n",
    "- Method 2: Grid trainer, no loss mask (10K iterations)\n",
    "- Method 3: Grid trainer, with loss mask (10K iterations)"
   ]
  },
  {
   "cell_type": "code",
   "execution_count": 4,
   "metadata": {},
   "outputs": [
    {
     "name": "stdout",
     "output_type": "stream",
     "text": [
      "Reading camera 301/301\n",
      "Loading 301 Train Cameras at scale 1.0\n",
      "Loading Test Cameras\n"
     ]
    }
   ],
   "source": [
    "# Load train scene\n",
    "train_scene = Scene(source_path=\"./datasets/train/\")"
   ]
  },
  {
   "cell_type": "code",
   "execution_count": null,
   "metadata": {},
   "outputs": [],
   "source": [
    "# Method 1\n",
    "model = GaussianModel.create_from_scene(train_scene)\n",
    "simple_trainer = SimpleTrainer(iterations=10000, iteration_callback=make_iteration_callback(train_scene, name=\"train_scene_simple\", save_interval=1000))\n",
    "simple = simple_trainer.train(train_scene, model)"
   ]
  },
  {
   "cell_type": "code",
   "execution_count": 8,
   "metadata": {},
   "outputs": [
    {
     "name": "stdout",
     "output_type": "stream",
     "text": [
      "Number of points at initialisation :  182686\n",
      "Pre-training gaussians...\n"
     ]
    },
    {
     "name": "stderr",
     "output_type": "stream",
     "text": [
      "100%|██████████| 1000/1000 [00:21<00:00, 45.96it/s]\n"
     ]
    },
    {
     "name": "stdout",
     "output_type": "stream",
     "text": [
      "Computing visibility...\n"
     ]
    },
    {
     "name": "stderr",
     "output_type": "stream",
     "text": [
      "100%|██████████| 8/8 [00:04<00:00,  1.93it/s]\n"
     ]
    },
    {
     "name": "stdout",
     "output_type": "stream",
     "text": [
      "Training submodel 1/8...\n",
      "Filtered cameras from 301 to 249\n"
     ]
    },
    {
     "name": "stderr",
     "output_type": "stream",
     "text": [
      "100%|██████████| 1/1 [00:00<00:00, 111.13it/s]\n"
     ]
    },
    {
     "name": "stdout",
     "output_type": "stream",
     "text": [
      "Training submodel 2/8...\n",
      "Filtered cameras from 301 to 218\n"
     ]
    },
    {
     "name": "stderr",
     "output_type": "stream",
     "text": [
      "100%|██████████| 1/1 [00:00<00:00, 116.80it/s]\n"
     ]
    },
    {
     "name": "stdout",
     "output_type": "stream",
     "text": [
      "Training submodel 3/8...\n",
      "Filtered cameras from 301 to 160\n"
     ]
    },
    {
     "name": "stderr",
     "output_type": "stream",
     "text": [
      "100%|██████████| 1/1 [00:00<00:00, 111.63it/s]\n"
     ]
    },
    {
     "name": "stdout",
     "output_type": "stream",
     "text": [
      "Training submodel 4/8...\n",
      "Filtered cameras from 301 to 149\n"
     ]
    },
    {
     "name": "stderr",
     "output_type": "stream",
     "text": [
      "100%|██████████| 1/1 [00:00<00:00, 98.77it/s]\n"
     ]
    },
    {
     "name": "stdout",
     "output_type": "stream",
     "text": [
      "Training submodel 5/8...\n",
      "Filtered cameras from 301 to 111\n"
     ]
    },
    {
     "name": "stderr",
     "output_type": "stream",
     "text": [
      "100%|██████████| 1/1 [00:00<00:00, 134.96it/s]\n"
     ]
    },
    {
     "name": "stdout",
     "output_type": "stream",
     "text": [
      "Training submodel 6/8...\n",
      "Filtered cameras from 301 to 263\n"
     ]
    },
    {
     "name": "stderr",
     "output_type": "stream",
     "text": [
      "100%|██████████| 1/1 [00:00<00:00, 96.14it/s]\n"
     ]
    },
    {
     "name": "stdout",
     "output_type": "stream",
     "text": [
      "Training submodel 7/8...\n",
      "Filtered cameras from 301 to 86\n"
     ]
    },
    {
     "name": "stderr",
     "output_type": "stream",
     "text": [
      "100%|██████████| 1/1 [00:00<00:00, 107.33it/s]\n"
     ]
    },
    {
     "name": "stdout",
     "output_type": "stream",
     "text": [
      "Training submodel 8/8...\n",
      "Filtered cameras from 301 to 175\n"
     ]
    },
    {
     "name": "stderr",
     "output_type": "stream",
     "text": [
      "100%|██████████| 1/1 [00:00<00:00, 89.00it/s]\n"
     ]
    },
    {
     "name": "stdout",
     "output_type": "stream",
     "text": [
      "Combining gaussians...\n",
      "Done.\n"
     ]
    },
    {
     "data": {
      "text/plain": [
       "(Scene(source_path='./datasets/train/', images='images', resolution=-1, data_device='cpu', shuffle=True, on_load_progress=None, eval=False, camera_name_whitelist=None, camera_name_blacklist=None),\n",
       " GaussianModel(sh_degree=3, percent_dense=0.01, position_lr_init=0.00016, feature_lr=0.0025, opacity_lr=0.05, scaling_lr=0.005, rotation_lr=0.001, position_lr_final=1.6e-06, spatial_lr_scale=0, position_lr_delay_mult=0.01, position_lr_max_steps=30000, pipeline_params=PipelineParams(debug=False, compute_cov3D_python=False, convert_SHs_python=False)))"
      ]
     },
     "execution_count": 8,
     "metadata": {},
     "output_type": "execute_result"
    }
   ],
   "source": [
    "grid_model = GaussianModel.create_from_scene(train_scene)\n",
    "grid_trainer = GridTrainer(iterations=10000, network_gui=True)\n",
    "grid = grid_trainer.train(train_scene, grid_model)\n"
   ]
  },
  {
   "cell_type": "code",
   "execution_count": 9,
   "metadata": {},
   "outputs": [
    {
     "name": "stdout",
     "output_type": "stream",
     "text": [
      "Creating output folder at /home/heng/Documents/GitHub/gaussian-splatting/output/grid_model3\n"
     ]
    }
   ],
   "source": [
    "grid.export_for_sibr(train_scene, \"./output/grid_model3\")"
   ]
  }
 ],
 "metadata": {
  "kernelspec": {
   "display_name": "gsn",
   "language": "python",
   "name": "python3"
  },
  "language_info": {
   "codemirror_mode": {
    "name": "ipython",
    "version": 3
   },
   "file_extension": ".py",
   "mimetype": "text/x-python",
   "name": "python",
   "nbconvert_exporter": "python",
   "pygments_lexer": "ipython3",
   "version": "3.8.18"
  }
 },
 "nbformat": 4,
 "nbformat_minor": 2
}
