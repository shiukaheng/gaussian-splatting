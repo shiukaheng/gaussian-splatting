{
 "cells": [
  {
   "cell_type": "code",
   "execution_count": 1,
   "metadata": {},
   "outputs": [
    {
     "name": "stdout",
     "output_type": "stream",
     "text": [
      "Reading camera 301/301\n",
      "Loading 301 Train Cameras at scale 1.0\n",
      "Loading Test Cameras\n",
      "Number of points at initialisation :  182686\n",
      "torch.Size([182686, 3])\n",
      "torch.Size([182686, 4])\n"
     ]
    },
    {
     "name": "stderr",
     "output_type": "stream",
     "text": [
      "100%|██████████| 100/100 [00:03<00:00, 30.82it/s]\n"
     ]
    }
   ],
   "source": [
    "from split_gaussian_splatting.trainers.base_trainer import BaseTrainer\n",
    "from split_gaussian_splatting.trainers.grid_trainer import GridTrainer\n",
    "from split_gaussian_splatting.trainers.simple_trainer import SimpleTrainer\n",
    "from split_gaussian_splatting.training_task import Task\n",
    "\n",
    "task = Task(source_path=\"./datasets/train\", iterations=100, data_device='cpu')\n",
    "\n",
    "trainer = GridTrainer()\n",
    "model, scene = trainer.train(task)"
   ]
  },
  {
   "cell_type": "code",
   "execution_count": null,
   "metadata": {},
   "outputs": [],
   "source": [
    "model"
   ]
  }
 ],
 "metadata": {
  "kernelspec": {
   "display_name": "gsn",
   "language": "python",
   "name": "python3"
  },
  "language_info": {
   "codemirror_mode": {
    "name": "ipython",
    "version": 3
   },
   "file_extension": ".py",
   "mimetype": "text/x-python",
   "name": "python",
   "nbconvert_exporter": "python",
   "pygments_lexer": "ipython3",
   "version": "3.8.18"
  }
 },
 "nbformat": 4,
 "nbformat_minor": 2
}
